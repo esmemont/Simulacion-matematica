{
 "cells": [
  {
   "cell_type": "markdown",
   "id": "48ede2c0",
   "metadata": {},
   "source": [
    "# Presentación personal\n"
   ]
  },
  {
   "cell_type": "markdown",
   "id": "924470dc",
   "metadata": {},
   "source": [
    "## ¿Quién es Esme?"
   ]
  },
  {
   "cell_type": "markdown",
   "id": "e5e28b6e",
   "metadata": {},
   "source": [
    "Hola mi nombre completo es **Nancy Esmeralda González Monterrubio**, tengo 19 años y actualmente estoy estudiando Ingeniería Financiera en el 3er semestre. Mi pasión más grande es el mundo del *maquillaje* ya que considero que es una forma de expresión que se relaciona con múltiples temas como lo es las **finanzas**.\n",
    "Por el maquillaje decidí estudiar esto ya que mi meta a futuro es tener mi propia marca y empresa de maquillaje ya que con mi conocimiento en finanzas y aparte en maquillaje la puedo llevar muy lejos. Por lo mismo el tema que mas me interesa de mi carrera es la forma en que funcionan las empresas y como llegan a cotizar en los mercados mas importantes del mundo.\n",
    "\n",
    "En mis planes ya tengo una lista de cosas que haré para lograr mi meta, a continuación te la presento:\n",
    "1. Terminar mis estudios en Ingeniería Financiera. \n",
    "2. Al terminar, ir a estudiar maquillaje profesional en la universidad de Los Ángeles. \n",
    "3. De manera simultanea con la universidad de maquillaje estaré trabajando en el área financiera de alguna marca de maquillaje. \n",
    "\n",
    "Hablando de mi carrera me gustaría en listar mis 3 cosas favoritas de la misma: \n",
    "- La versatilidad que tiene, ya que puedes trabajar y desarrollarla en múltiples sectores.\n",
    "- El trabajo en equipo, tanto en la universidad como en la práctica profesional, ya que considero que va de la mano del apoyo de tu equipo de trabajo. \n",
    "- El desarrollo mental que te proporciona estudiarla, ya que te hace ser una persona muy analítica y observadora.\n",
    "\n",
    "![](https://mananarm.blob.core.windows.net.optimalcdn.com/images/2016/01/12/crop_finanzas.jpg)\n",
    "\n",
    "$ Ingenieria financiera = innovación $"
   ]
  },
  {
   "cell_type": "code",
   "execution_count": null,
   "id": "089062e0",
   "metadata": {},
   "outputs": [],
   "source": []
  },
  {
   "cell_type": "code",
   "execution_count": null,
   "id": "77f87b3f",
   "metadata": {},
   "outputs": [],
   "source": []
  }
 ],
 "metadata": {
  "kernelspec": {
   "display_name": "Python 3 (ipykernel)",
   "language": "python",
   "name": "python3"
  },
  "language_info": {
   "codemirror_mode": {
    "name": "ipython",
    "version": 3
   },
   "file_extension": ".py",
   "mimetype": "text/x-python",
   "name": "python",
   "nbconvert_exporter": "python",
   "pygments_lexer": "ipython3",
   "version": "3.9.12"
  }
 },
 "nbformat": 4,
 "nbformat_minor": 5
}
