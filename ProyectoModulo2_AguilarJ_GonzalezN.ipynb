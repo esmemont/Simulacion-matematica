{
 "cells": [
  {
   "cell_type": "markdown",
   "id": "8ec9b72c",
   "metadata": {},
   "source": [
    "# PROYECTO MÓDULO 2"
   ]
  },
  {
   "cell_type": "markdown",
   "id": "98ed6494",
   "metadata": {},
   "source": [
    "**Integrantes:**\n",
    "- José Eddie Aguilar Ceballos\n",
    "- Nancy Esmeralda González Monterrubio"
   ]
  },
  {
   "cell_type": "markdown",
   "id": "3ca81b3a",
   "metadata": {},
   "source": [
    "# Brokers Latinos\n",
    "### Decisiones de inversión usando simulación Montecarlo"
   ]
  },
  {
   "cell_type": "markdown",
   "id": "76153f95",
   "metadata": {},
   "source": [
    "\n",
    "**Objetivo General:**\n",
    "\n",
    "El objetivo de este proyecto es mostrar un programa que pueda ayudar a algún inversionista a encontrar un plan o portafolio de inversión con la mayor probabilidad de ganancia. \n",
    "\n",
    "Para esto se utilizará simulación montecarlo, a fin de encontrar una predicción aproximada de las acciones.\n",
    "\n",
    "\n",
    "**Objetivo Específico:**\n",
    "\n",
    "Hay un inversionista en México que está actualmente invirtiendo en la Bolsa Mexicana de Valores y desea expandir su capital de inversión de $\\$$500,000.00 a $\\$$650,000.00\n",
    "\n",
    "Al tener ya una inversión en diferentes empresas de la bolsa, él solo desea invertir un total de $\\$$650,000.00 en dos acciones diferentes. \n",
    "\n",
    "Cláusulas del inversionista:\n",
    "\n",
    "- El cliente quiere invertir en dos nuevos sectores para tener un portafolio más variado:\n",
    " - Energía\n",
    " - Salud\n",
    " \n",
    "- Del sector energía tiene dos opciones para invertir:\n",
    " - Sempra energy (SRE)\n",
    " - Vista oil (VISTAA)\n",
    " \n",
    "- Del sector salud tiene tres opciones para invertir:\n",
    " - Genomma Lab (LABB)\n",
    " - Medica sur (MEDICAB)\n",
    "\n",
    "- Desea invertir en una sola acción de cada sector.\n",
    "\n",
    "- Desea invertir dos tercios de su nuevo capital en la acción que más probabilidad de éxito anual (15%) tenga, y el resto en la otra acción.\n",
    "\n",
    "El objetivo es encontrar la acción con la probabilidad más alta de generar ganancias, en cada sector."
   ]
  },
  {
   "cell_type": "markdown",
   "id": "bbf3495f",
   "metadata": {},
   "source": [
    "**El precio de las acciones está representado en la siguiente tabla, la cual fue recuperado de Grupo BMV:**\n",
    "\n",
    "Empresa|Precio de acción|Sector\n",
    ":----|----|----\n",
    "Sempra energy|$\\$2,988.50$|Energía\n",
    "Vista oil|$\\$265.00$|Energía\n",
    "Genomma Lab|$\\$15.01$|Salud\n",
    "Medica sur|$\\$38.40$|Salud"
   ]
  },
  {
   "cell_type": "markdown",
   "id": "259a53c9",
   "metadata": {},
   "source": [
    "### Modelo que representa el problema"
   ]
  },
  {
   "cell_type": "markdown",
   "id": "dca80c96",
   "metadata": {},
   "source": [
    "**1. Media y desviación estándar de los rendimientos**\n",
    "\n",
    "- Para esta simulación Montecarlo se utilizará una distribución normal para generar números aleatorios y poder simular rendimientos. Por lo tanto se extraerán valores históricos de las acciones para determinar sus rendimientos y datos estadísticos.\n",
    "\n",
    "**2. Deducción del modelo:** \n",
    "\n",
    "Para saber los rendimientos de cada acción, se usará el precio anterior con el actual para obtener un rendimiento logarítmico:\n",
    "\n",
    "$r_t=\\ln\\left(\\frac{S_t}{S_{t-1}}\\right)$\n",
    "\n",
    "Posteriormente para calcular los precios simulados teniendo los rendimientos, es la multiplicación del precio anterior por el rendimiento más 1. Al escalar esta ecuación a k número de datos, se tiene que:\n",
    "\n",
    "$p_{k}=p_{-1}(R_0+1)\\cdots(R_{k}+1)$\n",
    "\n",
    "\n",
    "**3. Situación a representar y limitaciones:**\n",
    "\n",
    "Con este modelo estaremos representando una aproximación de los valores futuros de una acción (en este caso a un año). De esta forma, podemos tener una idea de como se va a comportar el valor de esa acción y saber las ganancias o precios que podemos esperar.\n"
   ]
  },
  {
   "cell_type": "markdown",
   "id": "53202b98",
   "metadata": {},
   "source": [
    "### Solución del problema de optimización"
   ]
  },
  {
   "cell_type": "code",
   "execution_count": 2,
   "id": "3e81f8d7",
   "metadata": {},
   "outputs": [],
   "source": [
    "import pandas_datareader.data as web\n",
    "import pandas as pd\n",
    "import numpy as np\n",
    "import matplotlib.pyplot as pt\n",
    "%matplotlib inline"
   ]
  },
  {
   "cell_type": "code",
   "execution_count": 22,
   "id": "6aa0d011",
   "metadata": {},
   "outputs": [
    {
     "data": {
      "text/plain": [
       "<matplotlib.legend.Legend at 0x1c8db12c550>"
      ]
     },
     "execution_count": 22,
     "metadata": {},
     "output_type": "execute_result"
    },
    {
     "data": {
      "image/png": "[encoded data removed]",
      "text/plain": [
       "<Figure size 432x288 with 1 Axes>"
      ]
     },
     "metadata": {
      "needs_background": "light"
     },
     "output_type": "display_data"
    }
   ],
   "source": [
    "def getClose(name, start, end):\n",
    "    return web.DataReader(name, \"yahoo\", start, end)[\"Adj Close\"]\n",
    "\n",
    "def sim_r(media, std, inicio, dias, N):\n",
    "    r = np.random.normal(media, std, size=(dias, N))\n",
    "    fechas = pd.date_range(inicio, periods=dias)\n",
    "    return pd.DataFrame(index=fechas, data=r)\n",
    "\n",
    "\n",
    "acciones = [{\"Nombre\": \"Sempra energy\", \"Ticker\": \"SRE.MX\"},\n",
    "            {\"Nombre\": \"Vista oil\", \"Ticker\": \"VISTAA.MX\"},\n",
    "            {\"Nombre\": \"Genomma Lab\", \"Ticker\": \"LABB.MX\"},\n",
    "            {\"Nombre\": \"Medica sur\", \"Ticker\": \"MEDICAB.MX\"}]\n",
    "\n",
    "for i in acciones:\n",
    "    i[\"data\"] = getClose(i[\"Ticker\"], \"2020-11-03\", \"2022-11-03\")\n",
    "    i[\"r\"] = ((i[\"data\"] - i[\"data\"].shift())/i[\"data\"].shift()).dropna()\n",
    "    i[\"simulacion\"] = sim_r(i[\"r\"].mean(), i[\"r\"].std(), \"2022-11-04\", 365, 100000)\n",
    "    i[\"precios\"] = (1 + i[\"simulacion\"]).cumprod()*i[\"data\"][-1]\n",
    "    i[\"deseado\"] = i[\"data\"][-1]*1.15\n",
    "    i[\"pasa\"] = i[\"precios\"] >= i[\"deseado\"]\n",
    "    i[\"probabilidad\"] = i[\"pasa\"].mean(axis=1)\n",
    "    i[\"probabilidad\"].plot(grid = True, label=i[\"Ticker\"])\n",
    "\n",
    "pt.legend()"
   ]
  },
  {
   "cell_type": "markdown",
   "id": "b5392ad1",
   "metadata": {},
   "source": [
    "### Visualización de la solución del problema"
   ]
  },
  {
   "cell_type": "markdown",
   "id": "5536f915",
   "metadata": {},
   "source": [
    "Como podemos ver de la gráfica:\n",
    "\n",
    "- Del sector energía (SRE y VISTA), la acción que más probabilidad de superar un 15% tiene, es Vista oil.\n",
    "\n",
    "- Del sector salud (LAB  y MEDICA), la acción que más probabilidad de superar un 15% tiene, es Médica Sur.\n",
    "\n",
    "Entre Vista oil y Médica Sur, la acción que más probabilidad de superar un 15% tiene, es Vista oil.\n",
    "\n",
    "Por lo tanto, la inversión a recomendar al cliente es la siguiente:\n",
    "\n",
    "Empresa|Sector|Precio|Monto|N. acciones\n",
    ":----|----|----|----|----\n",
    "Sempra energy|Energía|$\\$$2,988.50|$\\$$0.00|0 acciones\n",
    "Vista oil|Energía|$\\$$265.00|$\\$$100,000.00|377 acciones\n",
    "Genomma Lab|Salud|$\\$$15.01|$\\$$0.00|0 acciones\n",
    "Medica sur|Salud|$\\$$38.40|$\\$$50,000.00|1,302 acciones"
   ]
  },
  {
   "cell_type": "markdown",
   "id": "f1058e1d",
   "metadata": {},
   "source": [
    "La simulación Montecarlo se condujo a una solución factible debido a que, los resultados obtenidos representan una inversión cumpliendo las condiciones del cliente y encontrando la posibilidad con más ganancia."
   ]
  },
  {
   "cell_type": "markdown",
   "id": "4e5f4d44",
   "metadata": {},
   "source": [
    "### Conclusión"
   ]
  },
  {
   "cell_type": "markdown",
   "id": "315c48b2",
   "metadata": {},
   "source": [
    "Como conclusión, se logró encontrar una estrategia de inversión que intente lograr una mayor ganancia del inversionista, esto con base en las restricciones que él mismo propuso en un primer momento. Tanto las empresas en las que obligatoriamente quería invertir, como el monto que deseaba utilizar. De esta forma, se agregan más sectores e inversiones a su portafolio, haciéndolo más diverso.\n",
    "\n",
    "A pesar de lograr los objetivos del proyecto y utilizar la simulación Montecarlo para resolver problemas de portafolios de inversión, hay que tomar en cuenta que la simulación Montecarlo tiene ciertas limitaciones. \n",
    "\n",
    "La simulación Montecarlo tiene resultados igual de buenos a los datos de entrada, entre más información y datos se tenga, mejores resultados y más confiables serán, esto hace que no sea muy confiable al hacer una simulación relativamente sencilla. Además, este tipo de simulaciones no tienen en cuenta fenómenos importantes en el mundo y en las finanzas, como una pandemia o una crisis financiera. Por lo cual, esta simulación está sujeta a un flujo similar al que los datos históricos tuvieron."
   ]
  },
  {
   "cell_type": "markdown",
   "id": "e2b06392",
   "metadata": {},
   "source": [
    "**Referencias:**\n",
    "\n",
    "- Grupo BMV Home. (s. f.). Recuperado 02 de noviembre de 2022, de https://www.bmv.com.mx/"
   ]
  }
 ],
 "metadata": {
  "kernelspec": {
   "display_name": "Python 3 (ipykernel)",
   "language": "python",
   "name": "python3"
  },
  "language_info": {
   "codemirror_mode": {
    "name": "ipython",
    "version": 3
   },
   "file_extension": ".py",
   "mimetype": "text/x-python",
   "name": "python",
   "nbconvert_exporter": "python",
   "pygments_lexer": "ipython3",
   "version": "3.9.12"
  }
 },
 "nbformat": 4,
 "nbformat_minor": 5
}
