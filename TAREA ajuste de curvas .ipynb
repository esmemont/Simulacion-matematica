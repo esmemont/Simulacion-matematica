{
 "cells": [
  {
   "cell_type": "markdown",
   "metadata": {},
   "source": [
    "# Tarea - Ajuste de curvas"
   ]
  },
  {
   "cell_type": "code",
   "execution_count": 3,
   "metadata": {},
   "outputs": [],
   "source": [
    "import numpy as np\n",
    "import pandas as pd\n",
    "import matplotlib.pyplot as plt\n",
    "%matplotlib inline\n",
    "import scipy.optimize as opt"
   ]
  },
  {
   "cell_type": "markdown",
   "metadata": {},
   "source": [
    "---\n",
    "### Problema 1\n",
    "\n",
    "Los siguientes datos representan el costo en dólares de la electricidad según Western Electricity Coordinating Council desde el 2014 (y su pronóstico para el 2040)\n",
    "\n",
    "Tomado de:\n",
    "https://www.quandl.com/data/EIA/AEO_2016_REF_NO_CPP_PRCE_NA_COMM_NA_ELC_NA_WECCRKS_NCNTPKWH_A-Electricity-End-Use-Prices-Commercial-Western-Electricity-Coordinating-Council-Rockies-No-CPP-AEO2016"
   ]
  },
  {
   "cell_type": "code",
   "execution_count": 4,
   "metadata": {},
   "outputs": [],
   "source": [
    "import numpy as np\n",
    "# Datos extraidos de la página de quandl\n",
    "data = np.array([10.051101,  9.259127,  9.444813,  9.557723,  9.977324, 10.298326,\n",
    "       10.447217, 10.550506, 10.590784, 10.657418, 10.743085, 10.831965,\n",
    "       10.988435, 11.153055, 11.313326, 11.557165, 11.860136, 12.122511,\n",
    "       12.356448, 12.611391, 12.814569, 13.111372, 13.357134, 13.559012,\n",
    "       13.85861 , 14.135924, 14.436149])"
   ]
  },
  {
   "cell_type": "markdown",
   "metadata": {},
   "source": [
    "1. Ajuste estos datos a polinomios de grado 1 hasta 3 (los datos en $x$ corresponden a los años de 2014 a 2040, sin embargo son valores muy grandes para elevarlos a una potencia, use una representación para estos años, por ejemplo $2014 \\rightarrow 0$ y $2040\\rightarrow 26$).\n",
    "\n",
    "2. Muestre las tres curvas ajustadas junto a los datos de los costos en un solo gráfico"
   ]
  },
  {
   "cell_type": "code",
   "execution_count": 5,
   "metadata": {},
   "outputs": [
    {
     "data": {
      "image/png": "[encoded data removed]",
      "text/plain": [
       "<Figure size 432x288 with 1 Axes>"
      ]
     },
     "metadata": {
      "needs_background": "light"
     },
     "output_type": "display_data"
    }
   ],
   "source": [
    "x = np.linspace(0,26,len(data))\n",
    "\n",
    "plt.figure()\n",
    "plt.scatter(x,data)\n",
    "plt.grid()"
   ]
  },
  {
   "cell_type": "code",
   "execution_count": 6,
   "metadata": {},
   "outputs": [],
   "source": [
    "def funcion_costo(beta, X, y, size):\n",
    "    beta = np.reshape(beta,[size,-1]) \n",
    "    pred= X @ beta\n",
    "    costo = (y-pred).T @ (y-pred)\n",
    "    return costo [0][0]\n",
    "\n",
    "# Construyendo matriz X\n",
    "ones = np.ones([len(data),1])\n",
    "x_1 = np.reshape(x,[len(data),-1])\n",
    "x_2 = np.reshape(x**2,[len(data),-1])\n",
    "x_3 = np.reshape(x**3,[len(data),-1])\n",
    "\n",
    "X1 = np.hstack((ones,x_1))\n",
    "X2 = np.hstack((ones,x_1,x_2))\n",
    "X3 = np.hstack((ones,x_1,x_2,x_3))\n",
    "\n",
    "#beta \n",
    "beta_inicial_1 = np.random.rand(2)\n",
    "beta_inicial_2 = np.random.rand(3)\n",
    "beta_inicial_3= np.random.rand(4)\n",
    "\n",
    "y = np.reshape(data,[len(data),-1])"
   ]
  },
  {
   "cell_type": "code",
   "execution_count": 8,
   "metadata": {
    "scrolled": true
   },
   "outputs": [
    {
     "name": "stdout",
     "output_type": "stream",
     "text": [
      "Grado 1: 798.8658792380036\n",
      "Grado 2: 202209.25811483245\n",
      "Grado 3: 963271395.8529513\n"
     ]
    }
   ],
   "source": [
    "print(\"Grado 1:\",funcion_costo(beta_inicial_1,X1,y,2))\n",
    "print(\"Grado 2:\",funcion_costo(beta_inicial_2,X2,y,3))\n",
    "print(\"Grado 3:\",funcion_costo(beta_inicial_3,X3,y,4))"
   ]
  },
  {
   "cell_type": "code",
   "execution_count": 17,
   "metadata": {
    "scrolled": true
   },
   "outputs": [
    {
     "data": {
      "text/plain": [
       "      fun: 2.3704889518216152\n",
       " hess_inv: array([[ 0.07010583, -0.00396825],\n",
       "       [-0.00396825,  0.00030525]])\n",
       "      jac: array([9.47713852e-06, 1.66893005e-06])\n",
       "  message: 'Optimization terminated successfully.'\n",
       "     nfev: 18\n",
       "      nit: 4\n",
       "     njev: 6\n",
       "   status: 0\n",
       "  success: True\n",
       "        x: array([9.11567699, 0.18667052])"
      ]
     },
     "execution_count": 17,
     "metadata": {},
     "output_type": "execute_result"
    }
   ],
   "source": [
    "sol1 = opt.minimize(funcion_costo,beta_inicial_1,args=(X1,y,2))\n",
    "sol1"
   ]
  },
  {
   "cell_type": "code",
   "execution_count": 20,
   "metadata": {},
   "outputs": [
    {
     "data": {
      "text/plain": [
       "      fun: 0.8443845194047608\n",
       " hess_inv: array([[ 1.44225507e-01, -2.17569787e-02,  6.84181722e-04],\n",
       "       [-2.17569787e-02,  4.57454425e-03, -1.64203613e-04],\n",
       "       [ 6.84181722e-04, -1.64203613e-04,  6.31552358e-06]])\n",
       "      jac: array([-4.47034836e-08,  6.70552254e-08, -1.04308128e-07])\n",
       "  message: 'Optimization terminated successfully.'\n",
       "     nfev: 28\n",
       "      nit: 4\n",
       "     njev: 7\n",
       "   status: 0\n",
       "  success: True\n",
       "        x: array([9.59128644e+00, 7.25241290e-02, 4.39024717e-03])"
      ]
     },
     "execution_count": 20,
     "metadata": {},
     "output_type": "execute_result"
    }
   ],
   "source": [
    "sol2 = opt.minimize(funcion_costo,beta_inicial_2,args=(X2,y,3))\n",
    "sol2"
   ]
  },
  {
   "cell_type": "code",
   "execution_count": 21,
   "metadata": {},
   "outputs": [
    {
     "data": {
      "text/plain": [
       "      fun: 0.8404346200635854\n",
       " hess_inv: array([[ 2.27241530e-01, -6.41110653e-02,  4.83436780e-03,\n",
       "        -1.06414909e-04],\n",
       "       [-6.41110653e-02,  2.61983399e-02, -2.28332180e-03,\n",
       "         5.43366199e-05],\n",
       "       [ 4.83436780e-03, -2.28332180e-03,  2.13991883e-04,\n",
       "        -5.32506573e-06],\n",
       "       [-1.06414909e-04,  5.43366199e-05, -5.32506573e-06,\n",
       "         1.36540955e-07]])\n",
       "      jac: array([ 1.84550881e-05, -3.36132944e-04, -1.04582831e-02, -2.36975834e-01])\n",
       "  message: 'Desired error not necessarily achieved due to precision loss.'\n",
       "     nfev: 217\n",
       "      nit: 8\n",
       "     njev: 41\n",
       "   status: 2\n",
       "  success: False\n",
       "        x: array([9.56752339e+00, 8.46505952e-02, 3.20195529e-03, 3.04690690e-05])"
      ]
     },
     "execution_count": 21,
     "metadata": {},
     "output_type": "execute_result"
    }
   ],
   "source": [
    "sol3 = opt.minimize(funcion_costo,beta_inicial_3,args=(X3,y,4))\n",
    "sol3"
   ]
  },
  {
   "cell_type": "code",
   "execution_count": 29,
   "metadata": {},
   "outputs": [
    {
     "data": {
      "image/png": "[encoded data removed]",
      "text/plain": [
       "<Figure size 432x288 with 1 Axes>"
      ]
     },
     "metadata": {
      "needs_background": "light"
     },
     "output_type": "display_data"
    }
   ],
   "source": [
    "y_pred_1 = 9.11567699 + 0.18667052*x\n",
    "y_pred_2 = 9.59128644e+00 + 7.25241290e-02*x + 4.39024717e-03*x**2\n",
    "y_pred_3 = 9.56752339e+00 + 8.46505952e-02*x + 3.20195529e-03*x**2 + 3.04690690e-05*x**3\n",
    "\n",
    "plt.figure()\n",
    "plt.scatter(x,data)\n",
    "plt.plot(x,y_pred_1,\"g\",label='Grado 1')\n",
    "plt.plot(x,y_pred_2,\"r\",label='Grado 2',linewidth=3)\n",
    "plt.plot(x,y_pred_3,\"b\",label='Grado 3')\n",
    "plt.legend()\n",
    "plt.grid()"
   ]
  },
  {
   "cell_type": "markdown",
   "metadata": {},
   "source": [
    "---"
   ]
  },
  {
   "cell_type": "markdown",
   "metadata": {},
   "source": [
    "___\n",
    "### Problema 2\n",
    "\n",
    "El archivo `population_data.csv` contiene información histórica anual de México relativa a la población, nacimientos y muertes desde el año 1950 hasta el año 2015. La primer columna corresponde a los años, la segunda a la población, la tercera a los nacimientos y la última a los decesos.\n",
    "\n",
    "Tomado de: https://en.wikipedia.org/wiki/Demographics_of_Mexico.\n",
    "\n",
    "Importe estos datos usando la función `read_csv` del paquete `pandas`\n",
    "\n",
    "1. Usando los años como variable independiente $x$ y la población como variable dependiente $y$, ajustar polinomios de grado 1 hasta grado 3.\n",
    "\n",
    "    * Mostrar en un solo gráfico los datos de población contra los años, y los polinomios ajustados.\n",
    "\n",
    "    * Graficar el error cuadrático acumulado contra el número de términos.\n",
    "\n",
    "2. Repetir el punto 1 usando los nacimientos como variable dependiente $y$. Grafique las curvas ajustadas junto con los datos de nacimientos. Vea en un gráfico el error acumulado."
   ]
  },
  {
   "cell_type": "markdown",
   "metadata": {},
   "source": [
    "### 1. ###"
   ]
  },
  {
   "cell_type": "code",
   "execution_count": 58,
   "metadata": {},
   "outputs": [
    {
     "name": "stdout",
     "output_type": "stream",
     "text": [
      "[ 28296  29110  29980  30904  31880  32906  33978  35095  36253  37448\n",
      "  38677  39939  41234  42564  43931  45339  46784  48264  49788  51361\n",
      "  52988  54669  56396  58156  59931  61708  63486  65261  67013  68715\n",
      "  70353  71916  73416  74880  76351  77859  79410  80999  82635  84327\n",
      "  86077  87890  89758  91654  93542  95393  97202  98969 100679 102317\n",
      " 103874 105340 106724 108056 109382 110732 112117 113530 114968 116423\n",
      " 114255 115683 117054 118395 119713 121005]\n"
     ]
    }
   ],
   "source": [
    "import pandas as pd\n",
    "data=pd.read_csv(\"population_data.csv\")\n",
    "poblacion=np.array(data[\"Poblacion\"])\n",
    "print(poblacion)"
   ]
  },
  {
   "cell_type": "code",
   "execution_count": 59,
   "metadata": {},
   "outputs": [
    {
     "data": {
      "image/png": "[encoded data removed]",
      "text/plain": [
       "<Figure size 432x288 with 1 Axes>"
      ]
     },
     "metadata": {
      "needs_background": "light"
     },
     "output_type": "display_data"
    }
   ],
   "source": [
    "num = len(poblacion)\n",
    "x = np.linspace(0,num,num)\n",
    "\n",
    "plt.figure()\n",
    "plt.scatter(x,poblacion)\n",
    "plt.grid()"
   ]
  },
  {
   "cell_type": "code",
   "execution_count": 60,
   "metadata": {},
   "outputs": [],
   "source": [
    "# Construyendo matrices X\n",
    "ones = np.ones([num,1])\n",
    "x_1 = np.reshape(x,[num,-1])\n",
    "x_2 = np.reshape(x**2,[num,-1])\n",
    "x_3 = np.reshape(x**3,[num,-1])\n",
    "\n",
    "X1 = np.hstack((ones,x_1))\n",
    "X2 = np.hstack((ones,x_1,x_2))\n",
    "X3 = np.hstack((ones,x_1,x_2,x_3))\n",
    "\n",
    " #Beta\n",
    "    \n",
    "beta_inicial_1 = np.random.rand(2)\n",
    "beta_inicial_2 = np.random.rand(3)\n",
    "beta_inicial_3= np.random.rand(4)\n",
    "\n",
    "y = np.reshape(poblacion,[num,-1])"
   ]
  },
  {
   "cell_type": "code",
   "execution_count": 61,
   "metadata": {},
   "outputs": [
    {
     "name": "stdout",
     "output_type": "stream",
     "text": [
      "Grado 1: 421463292049.10474\n",
      "Grado 2: 415337248837.8183\n",
      "Grado 3: 195803561722.0415\n"
     ]
    }
   ],
   "source": [
    "print(\"Grado 1:\",funcion_costo(beta_inicial_1,X1,y,2))\n",
    "print(\"Grado 2:\",funcion_costo(beta_inicial_2,X2,y,3))\n",
    "print(\"Grado 3:\",funcion_costo(beta_inicial_3,X3,y,4))"
   ]
  },
  {
   "cell_type": "code",
   "execution_count": 62,
   "metadata": {},
   "outputs": [
    {
     "data": {
      "text/plain": [
       "      fun: 212137169.5461918\n",
       " hess_inv: array([[ 9.34918861e-03, -2.11646711e-04],\n",
       "       [-2.11646711e-04,  9.96928170e-06]])\n",
       "      jac: array([0., 0.])\n",
       "  message: 'Optimization terminated successfully.'\n",
       "     nfev: 60\n",
       "      nit: 8\n",
       "     njev: 20\n",
       "   status: 0\n",
       "  success: True\n",
       "        x: array([24138.02647302,  1520.57963288])"
      ]
     },
     "execution_count": 62,
     "metadata": {},
     "output_type": "execute_result"
    }
   ],
   "source": [
    "sol1 = opt.minimize(funcion_costo,beta_inicial_1,args=(X1,y,2))\n",
    "sol1"
   ]
  },
  {
   "cell_type": "code",
   "execution_count": 63,
   "metadata": {},
   "outputs": [
    {
     "data": {
      "text/plain": [
       "      fun: 210941621.45112744\n",
       " hess_inv: array([[ 8.34676299e-03, -1.53730322e-06,  1.53730322e-06],\n",
       "       [-1.53730322e-06,  3.16063972e-09, -3.16063972e-09],\n",
       "       [ 1.53730322e-06, -3.16063972e-09,  3.16063981e-09]])\n",
       "      jac: array([ 0., -2.,  4.])\n",
       "  message: 'Desired error not necessarily achieved due to precision loss.'\n",
       "     nfev: 272\n",
       "      nit: 11\n",
       "     njev: 65\n",
       "   status: 2\n",
       "  success: False\n",
       "        x: array([2.44255665e+04, 1.49402932e+03, 4.02286037e-01])"
      ]
     },
     "execution_count": 63,
     "metadata": {},
     "output_type": "execute_result"
    }
   ],
   "source": [
    "sol2 = opt.minimize(funcion_costo,beta_inicial_2,args=(X2,y,3))\n",
    "sol2"
   ]
  },
  {
   "cell_type": "code",
   "execution_count": 64,
   "metadata": {},
   "outputs": [
    {
     "data": {
      "text/plain": [
       "      fun: 25240442.633423038\n",
       " hess_inv: array([[ 3.15066564e-02,  4.47215056e-03, -2.55398577e-04,\n",
       "         3.32950778e-06],\n",
       "       [ 4.47215056e-03,  6.35301009e-04, -3.60857865e-05,\n",
       "         4.69580344e-07],\n",
       "       [-2.55398577e-04, -3.60857865e-05,  2.12447230e-06,\n",
       "        -2.79720083e-08],\n",
       "       [ 3.32950778e-06,  4.69580344e-07, -2.79720083e-08,\n",
       "         3.70850490e-10]])\n",
       "      jac: array([-0.25,  7.25,  3.  ,  8.25])\n",
       "  message: 'Desired error not necessarily achieved due to precision loss.'\n",
       "     nfev: 307\n",
       "      nit: 8\n",
       "     njev: 59\n",
       "   status: 2\n",
       "  success: False\n",
       "        x: array([ 2.84777249e+04,  7.27885869e+02,  2.96455154e+01, -2.95386224e-01])"
      ]
     },
     "execution_count": 64,
     "metadata": {},
     "output_type": "execute_result"
    }
   ],
   "source": [
    "sol3 = opt.minimize(funcion_costo,beta_inicial_3,args=(X3,y,4))\n",
    "sol3"
   ]
  },
  {
   "cell_type": "code",
   "execution_count": 70,
   "metadata": {},
   "outputs": [
    {
     "data": {
      "image/png": "[encoded data removed]",
      "text/plain": [
       "<Figure size 432x288 with 1 Axes>"
      ]
     },
     "metadata": {
      "needs_background": "light"
     },
     "output_type": "display_data"
    }
   ],
   "source": [
    "y_pred_1 = 24138.02647302 + 1520.57963288*x\n",
    "y_pred_2 = 2.44255665e+04 + 1.49402932e+03*x + 4.02286037e-01*x**2\n",
    "y_pred_3 = 2.84777249e+04 + 7.27885869e+02*x + 2.96455154e+01*x**2 - 2.95386224e-01*x**3\n",
    "\n",
    "plt.figure()\n",
    "plt.scatter(x,poblacion)\n",
    "plt.plot(x,y_pred_1,\"g\",label='Grado 1',linewidth=3)\n",
    "plt.plot(x,y_pred_2,\"r\",label='Grado 2')\n",
    "plt.plot(x,y_pred_3,\"k\",label='Grado 3')\n",
    "plt.legend()\n",
    "plt.grid()"
   ]
  },
  {
   "cell_type": "markdown",
   "metadata": {},
   "source": [
    "### 2. ###"
   ]
  },
  {
   "cell_type": "code",
   "execution_count": 72,
   "metadata": {
    "scrolled": true
   },
   "outputs": [
    {
     "name": "stdout",
     "output_type": "stream",
     "text": [
      "[1174947 1183788 1195209 1261775 1339837 1377917 1427722 1485202 1447578\n",
      " 1589606 1608174 1647006 1705481 1756624 1849408 1888171 1954340 1981363\n",
      " 2058251 2037561 2132630 2231399 2346002 2572287 2522580 2254497 2366305\n",
      " 2379327 2346862 2274267 2446238 2530662 2392849 2609088 2511894 2655671\n",
      " 2577045 2794390 2622031 2620262 2735312 2756447 2797397 2839686 2904389\n",
      " 2750444 2707718 2698425 2668429 2769089 2798339 2767610 2699084 2655894\n",
      " 2625056 2567906 2505939 2655083 2636110 2577214 2643908 2586287 2498880\n",
      " 2478889 2463420 2353596]\n"
     ]
    }
   ],
   "source": [
    "nacimientos=np.array(data[\"Nacimientos\"])\n",
    "print(nacimientos)"
   ]
  },
  {
   "cell_type": "code",
   "execution_count": 76,
   "metadata": {
    "scrolled": true
   },
   "outputs": [
    {
     "data": {
      "image/png": "[encoded data removed]",
      "text/plain": [
       "<Figure size 432x288 with 1 Axes>"
      ]
     },
     "metadata": {
      "needs_background": "light"
     },
     "output_type": "display_data"
    }
   ],
   "source": [
    "num = len(nacimientos)\n",
    "x = np.linspace(0,num,num)\n",
    "\n",
    "plt.figure()\n",
    "plt.scatter(x,nacimientos)\n",
    "plt.grid()"
   ]
  },
  {
   "cell_type": "code",
   "execution_count": 77,
   "metadata": {},
   "outputs": [],
   "source": [
    "# Construyendo matrices X\n",
    "ones = np.ones([num,1])\n",
    "x_1 = np.reshape(x,[num,-1])\n",
    "x_2 = np.reshape(x**2,[num,-1])\n",
    "x_3 = np.reshape(x**3,[num,-1])\n",
    "\n",
    "X1 = np.hstack((ones,x_1))\n",
    "X2 = np.hstack((ones,x_1,x_2))\n",
    "X3 = np.hstack((ones,x_1,x_2,x_3))\n",
    "\n",
    "beta_inicial_1 = np.random.rand(2)\n",
    "beta_inicial_2 = np.random.rand(3)\n",
    "beta_inicial_3= np.random.rand(4)\n",
    "\n",
    "y = np.reshape(nacimientos,[num,-1])"
   ]
  },
  {
   "cell_type": "code",
   "execution_count": 78,
   "metadata": {},
   "outputs": [
    {
     "name": "stdout",
     "output_type": "stream",
     "text": [
      "Grado 1: 358560806036288.6\n",
      "Grado 2: 358180108416025.9\n",
      "Grado 3: 335034812718670.0\n"
     ]
    }
   ],
   "source": [
    "print(\"Grado 1:\",funcion_costo(beta_inicial_1,X1,y,2))\n",
    "print(\"Grado 2:\",funcion_costo(beta_inicial_2,X2,y,3))\n",
    "print(\"Grado 3:\",funcion_costo(beta_inicial_3,X3,y,4))"
   ]
  },
  {
   "cell_type": "code",
   "execution_count": 79,
   "metadata": {},
   "outputs": [
    {
     "data": {
      "text/plain": [
       "      fun: 4737912265207.46\n",
       " hess_inv: array([[ 7.39531422e-03, -5.07145538e-05],\n",
       "       [-5.07145538e-05,  1.90650138e-06]])\n",
       "      jac: array([0., 0.])\n",
       "  message: 'Optimization terminated successfully.'\n",
       "     nfev: 69\n",
       "      nit: 7\n",
       "     njev: 23\n",
       "   status: 0\n",
       "  success: True\n",
       "        x: array([1562990.99542582,   21643.59351408])"
      ]
     },
     "execution_count": 79,
     "metadata": {},
     "output_type": "execute_result"
    }
   ],
   "source": [
    "sol1 = opt.minimize(funcion_costo,beta_inicial_1,args=(X1,y,2))\n",
    "sol1"
   ]
  },
  {
   "cell_type": "code",
   "execution_count": 80,
   "metadata": {},
   "outputs": [
    {
     "data": {
      "text/plain": [
       "      fun: 492921063459.15283\n",
       " hess_inv: array([[ 5.00631413e-02, -2.74268243e-03,  3.23791869e-05],\n",
       "       [-2.74268243e-03,  2.29158428e-04, -3.22906712e-06],\n",
       "       [ 3.23791869e-05, -3.22906712e-06,  4.98793393e-08]])\n",
       "      jac: array([     0.,  61440., -94208.])\n",
       "  message: 'Desired error not necessarily achieved due to precision loss.'\n",
       "     nfev: 252\n",
       "      nit: 7\n",
       "     njev: 60\n",
       "   status: 2\n",
       "  success: False\n",
       "        x: array([ 1.02113758e+06,  7.16723856e+04, -7.58015620e+02])"
      ]
     },
     "execution_count": 80,
     "metadata": {},
     "output_type": "execute_result"
    }
   ],
   "source": [
    "sol2 = opt.minimize(funcion_costo,beta_inicial_2,args=(X2,y,3))\n",
    "sol2"
   ]
  },
  {
   "cell_type": "code",
   "execution_count": 81,
   "metadata": {},
   "outputs": [
    {
     "data": {
      "text/plain": [
       "      fun: 441782357818.0632\n",
       " hess_inv: array([[ 1.41336484e-03, -2.31331498e-04,  7.52329982e-06,\n",
       "        -6.65575093e-08],\n",
       "       [-2.31331498e-04,  4.61445738e-05, -1.70409987e-06,\n",
       "         1.66658919e-08],\n",
       "       [ 7.52329982e-06, -1.70409987e-06,  1.35399104e-07,\n",
       "        -1.88506799e-09],\n",
       "       [-6.65575093e-08,  1.66658919e-08, -1.88506799e-09,\n",
       "         2.88000775e-11]])\n",
       "      jac: array([        0.,         0.,   -217088., -12300288.])\n",
       "  message: 'Desired error not necessarily achieved due to precision loss.'\n",
       "     nfev: 452\n",
       "      nit: 16\n",
       "     njev: 88\n",
       "   status: 2\n",
       "  success: False\n",
       "        x: array([ 1.08834110e+06,  5.89563736e+04, -2.72532610e+02, -4.90448023e+00])"
      ]
     },
     "execution_count": 81,
     "metadata": {},
     "output_type": "execute_result"
    }
   ],
   "source": [
    "sol3 = opt.minimize(funcion_costo,beta_inicial_3,args=(X3,y,4))\n",
    "sol3"
   ]
  },
  {
   "cell_type": "code",
   "execution_count": 83,
   "metadata": {},
   "outputs": [
    {
     "data": {
      "image/png": "[encoded data removed]",
      "text/plain": [
       "<Figure size 432x288 with 1 Axes>"
      ]
     },
     "metadata": {
      "needs_background": "light"
     },
     "output_type": "display_data"
    }
   ],
   "source": [
    "y_pred_1 = 1562990.99542582 + 21643.59351408*x\n",
    "y_pred_2 = 1.02113758e+06 + 7.16723856e+04*x - 7.58015620e+02*x**2\n",
    "1.02113758e+06,  7.16723856e+04, -7.58015620e+02\n",
    "y_pred_3 = 1.08834110e+06 + 5.89563736e+04*x - 2.72532610e+02*x**2 - 4.90448023e+00*x**3\n",
    "\n",
    "plt.figure()\n",
    "plt.scatter(x,nacimientos)\n",
    "plt.plot(x,y_pred_1,\"g\",label='Grado 1')\n",
    "plt.plot(x,y_pred_2,\"r\",label='Grado 2')\n",
    "plt.plot(x,y_pred_3,\"k\",label='Grado 3')\n",
    "plt.legend()\n",
    "plt.grid()"
   ]
  }
 ],
 "metadata": {
  "kernelspec": {
   "display_name": "Python 3 (ipykernel)",
   "language": "python",
   "name": "python3"
  },
  "language_info": {
   "codemirror_mode": {
    "name": "ipython",
    "version": 3
   },
   "file_extension": ".py",
   "mimetype": "text/x-python",
   "name": "python",
   "nbconvert_exporter": "python",
   "pygments_lexer": "ipython3",
   "version": "3.9.12"
  }
 },
 "nbformat": 4,
 "nbformat_minor": 2
}
