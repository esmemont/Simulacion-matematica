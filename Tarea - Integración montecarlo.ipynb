{
 "cells": [
  {
   "cell_type": "markdown",
   "metadata": {},
   "source": [
    "# TAREA"
   ]
  },
  {
   "cell_type": "markdown",
   "metadata": {},
   "source": [
    "## Integración Montecarlo"
   ]
  },
  {
   "cell_type": "markdown",
   "metadata": {},
   "source": [
    "1. Realizar las siguientes integrales. Poner los resultados en una tabla cuyas filas correspondan a la cantidad de términos utilizados en la aproximación (usar 10, 100, 1000, 10000 y 100000 términos) y cuyas columnas correspondan a las funciones.\n",
    "    + $\\int_{1}^{3} e^{x}\\log(x)\\text{d}x$.\n",
    "    + $\\int_1^3 \\sin(x)\\ln(x) \\text{d}x$"
   ]
  },
  {
   "cell_type": "code",
   "execution_count": 2,
   "metadata": {},
   "outputs": [
    {
     "data": {
      "text/html": [
       "<div>\n",
       "<style scoped>\n",
       "    .dataframe tbody tr th:only-of-type {\n",
       "        vertical-align: middle;\n",
       "    }\n",
       "\n",
       "    .dataframe tbody tr th {\n",
       "        vertical-align: top;\n",
       "    }\n",
       "\n",
       "    .dataframe thead th {\n",
       "        text-align: right;\n",
       "    }\n",
       "</style>\n",
       "<table border=\"1\" class=\"dataframe\">\n",
       "  <thead>\n",
       "    <tr style=\"text-align: right;\">\n",
       "      <th></th>\n",
       "      <th>Aproximación a1</th>\n",
       "      <th>Error a1</th>\n",
       "      <th>Aproximación a2</th>\n",
       "      <th>Error a2</th>\n",
       "    </tr>\n",
       "  </thead>\n",
       "  <tbody>\n",
       "    <tr>\n",
       "      <th>10</th>\n",
       "      <td>7.848637</td>\n",
       "      <td>6.178863</td>\n",
       "      <td>0.83258</td>\n",
       "      <td>0.037264</td>\n",
       "    </tr>\n",
       "    <tr>\n",
       "      <th>100</th>\n",
       "      <td>12.759013</td>\n",
       "      <td>1.268487</td>\n",
       "      <td>0.926861</td>\n",
       "      <td>0.057017</td>\n",
       "    </tr>\n",
       "    <tr>\n",
       "      <th>1000</th>\n",
       "      <td>13.637323</td>\n",
       "      <td>0.390177</td>\n",
       "      <td>0.856169</td>\n",
       "      <td>0.013675</td>\n",
       "    </tr>\n",
       "    <tr>\n",
       "      <th>10000</th>\n",
       "      <td>14.115602</td>\n",
       "      <td>0.088102</td>\n",
       "      <td>0.868257</td>\n",
       "      <td>0.001587</td>\n",
       "    </tr>\n",
       "    <tr>\n",
       "      <th>100000</th>\n",
       "      <td>14.056547</td>\n",
       "      <td>0.029047</td>\n",
       "      <td>0.87155</td>\n",
       "      <td>0.001706</td>\n",
       "    </tr>\n",
       "  </tbody>\n",
       "</table>\n",
       "</div>"
      ],
      "text/plain": [
       "       Aproximación a1  Error a1 Aproximación a2  Error a2\n",
       "10            7.848637  6.178863         0.83258  0.037264\n",
       "100          12.759013  1.268487        0.926861  0.057017\n",
       "1000         13.637323  0.390177        0.856169  0.013675\n",
       "10000        14.115602  0.088102        0.868257  0.001587\n",
       "100000       14.056547  0.029047         0.87155  0.001706"
      ]
     },
     "execution_count": 2,
     "metadata": {},
     "output_type": "execute_result"
    }
   ],
   "source": [
    "import pandas as pd\n",
    "import numpy as np\n",
    "\n",
    "def montecarlo(f, N, a, b):\n",
    "    u = np.random.uniform(a,b,N)\n",
    "    return np.mean(f(u))*(b-a)\n",
    "\n",
    "N = [10, 100, 1000, 10000, 100000] \n",
    "table = pd.DataFrame(columns=[\"Aproximación a1\",\"Error a1\", \"Aproximación a2\",\"Error a2\"], index=N)\n",
    "\n",
    "def a1(x):\n",
    "    return np.exp(x)*np.log(x)\n",
    "\n",
    "def a2(x):\n",
    "    return np.sin(x)*np.log(x)\n",
    "\n",
    "\n",
    "for i in N:\n",
    "    table.loc[i,\"Aproximación a1\"] = montecarlo(a1, int(i), 1, 3)\n",
    "    table.loc[i,\"Aproximación a2\"] = montecarlo(a2, int(i), 1, 3)\n",
    "    \n",
    "table[\"Error a1\"] = np.abs(14.0275- table[\"Aproximación a1\"])\n",
    "table[\"Error a2\"] = np.abs(0.869844- table[\"Aproximación a2\"])\n",
    "table"
   ]
  },
  {
   "cell_type": "markdown",
   "metadata": {},
   "source": [
    "2. Aproximar el área de la región descrita por\n",
    "\n",
    "$$x^2+2y^2\\leq-2x+8y-7$$\n",
    "\n",
    "Poner los resultados en una tabla cuyas filas correspondan a la cantidad de términos utilizados en la aproximación (usar 10, 100, 1000, 10000 y 100000 términos) y en las columnas el valor de aproximación y el error relativo.\n",
    "\n",
    "Definir unos límites adecuados $a_1$, $b_1$, $a_2$ y $b_2$, para la región $R=\\left[a_1,b_1\\right]\\times\\left[a_2,b_2\\right]$"
   ]
  },
  {
   "cell_type": "code",
   "execution_count": 4,
   "metadata": {
    "scrolled": true
   },
   "outputs": [
    {
     "data": {
      "text/plain": [
       "<matplotlib.collections.PathCollection at 0x1ee11911b20>"
      ]
     },
     "execution_count": 4,
     "metadata": {},
     "output_type": "execute_result"
    },
    {
     "data": {
      "image/png": "[encoded data removed]",
      "text/plain": [
       "<Figure size 432x288 with 1 Axes>"
      ]
     },
     "metadata": {
      "needs_background": "light"
     },
     "output_type": "display_data"
    }
   ],
   "source": [
    "import numpy as np\n",
    "import matplotlib.pyplot as plt\n",
    "%matplotlib inline\n",
    "def circulo(x, y) : \n",
    "    return (x**2 + 2*y**2 <= -2*x+8*y-7)\n",
    "\n",
    "x = np.random.uniform(-6, 3, 100)\n",
    "y = np.random.uniform(0, 4, 100)\n",
    "X, Y = np.meshgrid(x, y)\n",
    "plt.figure()\n",
    "plt.scatter(X, Y, c=~circulo(X, Y))"
   ]
  },
  {
   "cell_type": "code",
   "execution_count": 32,
   "metadata": {},
   "outputs": [
    {
     "data": {
      "text/plain": [
       "3.6"
      ]
     },
     "execution_count": 32,
     "metadata": {},
     "output_type": "execute_result"
    }
   ],
   "source": [
    "def montecarlo21(region, ax, bx, ay, by, N) : \n",
    "    x = np.random.uniform (ax, bx, N)\n",
    "    y = np.random.uniform(ay, by , N)\n",
    "    B = region(x, y)\n",
    "    AR = (bx - ax)*(by -ay)\n",
    "    return np.mean(B)*AR\n",
    "\n",
    "montecarlo21(circulo, -6, 3, 0, 4, 10)"
   ]
  },
  {
   "cell_type": "code",
   "execution_count": 33,
   "metadata": {},
   "outputs": [
    {
     "data": {
      "text/plain": [
       "3.0"
      ]
     },
     "execution_count": 33,
     "metadata": {},
     "output_type": "execute_result"
    }
   ],
   "source": [
    "def error_relativo1(AD, AR) :\n",
    "    return(np.sqrt((1-AD/AR)/(AD/AR)))\n",
    "AD = montecarlo2(circulo, -6, 3, 0, 4, 10)\n",
    "AR = 36\n",
    "error_relativo1(AD, AR)"
   ]
  },
  {
   "cell_type": "code",
   "execution_count": 34,
   "metadata": {},
   "outputs": [
    {
     "data": {
      "text/plain": [
       "5.3999999999999995"
      ]
     },
     "execution_count": 34,
     "metadata": {},
     "output_type": "execute_result"
    }
   ],
   "source": [
    "def montecarlo22(region, ax, bx, ay, by, N) : \n",
    "    x = np.random.uniform (ax, bx, N)\n",
    "    y = np.random.uniform(ay, by , N)\n",
    "    B = region(x, y)\n",
    "    AR = (bx - ax)*(by -ay)\n",
    "    return np.mean(B)*AR\n",
    "\n",
    "montecarlo22(circulo, -6, 3, 0, 4, 100)"
   ]
  },
  {
   "cell_type": "code",
   "execution_count": 35,
   "metadata": {},
   "outputs": [
    {
     "data": {
      "text/plain": [
       "2.4784787961282104"
      ]
     },
     "execution_count": 35,
     "metadata": {},
     "output_type": "execute_result"
    }
   ],
   "source": [
    "def error_relativo2(AD, AR) :\n",
    "    return(np.sqrt((1-AD/AR)/(AD/AR)))\n",
    "AD = montecarlo22(circulo, -6, 3, 0, 4, 100)\n",
    "AR = 36\n",
    "error_relativo2(AD, AR)"
   ]
  },
  {
   "cell_type": "code",
   "execution_count": 36,
   "metadata": {},
   "outputs": [
    {
     "data": {
      "text/plain": [
       "4.104"
      ]
     },
     "execution_count": 36,
     "metadata": {},
     "output_type": "execute_result"
    }
   ],
   "source": [
    "def montecarlo23(region, ax, bx, ay, by, N) : \n",
    "    x = np.random.uniform (ax, bx, N)\n",
    "    y = np.random.uniform(ay, by , N)\n",
    "    B = region(x, y)\n",
    "    AR = (bx - ax)*(by -ay)\n",
    "    return np.mean(B)*AR\n",
    "\n",
    "montecarlo23(circulo, -6, 3, 0, 4, 1000)"
   ]
  },
  {
   "cell_type": "code",
   "execution_count": 37,
   "metadata": {},
   "outputs": [
    {
     "data": {
      "text/plain": [
       "2.830019259476693"
      ]
     },
     "execution_count": 37,
     "metadata": {},
     "output_type": "execute_result"
    }
   ],
   "source": [
    "def error_relativo3(AD, AR) :\n",
    "    return(np.sqrt((1-AD/AR)/(AD/AR)))\n",
    "AD = montecarlo23(circulo, -6, 3, 0, 4, 1000)\n",
    "AR = 36\n",
    "error_relativo3(AD, AR)"
   ]
  },
  {
   "cell_type": "code",
   "execution_count": 38,
   "metadata": {},
   "outputs": [
    {
     "data": {
      "text/plain": [
       "4.3992"
      ]
     },
     "execution_count": 38,
     "metadata": {},
     "output_type": "execute_result"
    }
   ],
   "source": [
    "def montecarlo24(region, ax, bx, ay, by, N) : \n",
    "    x = np.random.uniform (ax, bx, N)\n",
    "    y = np.random.uniform(ay, by , N)\n",
    "    B = region(x, y)\n",
    "    AR = (bx - ax)*(by -ay)\n",
    "    return np.mean(B)*AR\n",
    "\n",
    "montecarlo24(circulo, -6, 3, 0, 4, 10000)"
   ]
  },
  {
   "cell_type": "code",
   "execution_count": 39,
   "metadata": {},
   "outputs": [
    {
     "data": {
      "text/plain": [
       "2.6839235173692595"
      ]
     },
     "execution_count": 39,
     "metadata": {},
     "output_type": "execute_result"
    }
   ],
   "source": [
    "def error_relativo4(AD, AR) :\n",
    "    return(np.sqrt((1-AD/AR)/(AD/AR)))\n",
    "AD = montecarlo24(circulo, -6, 3, 0, 4, 10000)\n",
    "AR = 36\n",
    "error_relativo4(AD, AR)"
   ]
  },
  {
   "cell_type": "code",
   "execution_count": 40,
   "metadata": {},
   "outputs": [
    {
     "data": {
      "text/plain": [
       "4.41468"
      ]
     },
     "execution_count": 40,
     "metadata": {},
     "output_type": "execute_result"
    }
   ],
   "source": [
    "def montecarlo25(region, ax, bx, ay, by, N) : \n",
    "    x = np.random.uniform (ax, bx, N)\n",
    "    y = np.random.uniform(ay, by , N)\n",
    "    B = region(x, y)\n",
    "    AR = (bx - ax)*(by -ay)\n",
    "    return np.mean(B)*AR\n",
    "\n",
    "montecarlo25(circulo, -6, 3, 0, 4, 100000)"
   ]
  },
  {
   "cell_type": "code",
   "execution_count": 41,
   "metadata": {},
   "outputs": [
    {
     "data": {
      "text/plain": [
       "2.6665145942040143"
      ]
     },
     "execution_count": 41,
     "metadata": {},
     "output_type": "execute_result"
    }
   ],
   "source": [
    "def error_relativo5(AD, AR) :\n",
    "    return(np.sqrt((1-AD/AR)/(AD/AR)))\n",
    "AD = montecarlo25(circulo, -6, 3, 0, 4, 100000)\n",
    "AR = 36\n",
    "error_relativo5(AD, AR)"
   ]
  },
  {
   "cell_type": "code",
   "execution_count": 43,
   "metadata": {},
   "outputs": [
    {
     "data": {
      "text/html": [
       "<div>\n",
       "<style scoped>\n",
       "    .dataframe tbody tr th:only-of-type {\n",
       "        vertical-align: middle;\n",
       "    }\n",
       "\n",
       "    .dataframe tbody tr th {\n",
       "        vertical-align: top;\n",
       "    }\n",
       "\n",
       "    .dataframe thead th {\n",
       "        text-align: right;\n",
       "    }\n",
       "</style>\n",
       "<table border=\"1\" class=\"dataframe\">\n",
       "  <thead>\n",
       "    <tr style=\"text-align: right;\">\n",
       "      <th></th>\n",
       "      <th>Aproximación1</th>\n",
       "      <th>Error1</th>\n",
       "      <th>Aproximación2</th>\n",
       "      <th>Error2</th>\n",
       "      <th>Aproximación3</th>\n",
       "      <th>Error3</th>\n",
       "      <th>Aproximación4</th>\n",
       "      <th>Error4</th>\n",
       "      <th>Aproximación5</th>\n",
       "      <th>Error5</th>\n",
       "    </tr>\n",
       "  </thead>\n",
       "  <tbody>\n",
       "    <tr>\n",
       "      <th>10.0</th>\n",
       "      <td>10.8</td>\n",
       "      <td>2.666515</td>\n",
       "      <td>2.52</td>\n",
       "      <td>2.666515</td>\n",
       "      <td>4.284</td>\n",
       "      <td>2.666515</td>\n",
       "      <td>4.3812</td>\n",
       "      <td>2.666515</td>\n",
       "      <td>4.47732</td>\n",
       "      <td>2.666515</td>\n",
       "    </tr>\n",
       "    <tr>\n",
       "      <th>100.0</th>\n",
       "      <td>3.6</td>\n",
       "      <td>2.666515</td>\n",
       "      <td>4.68</td>\n",
       "      <td>2.666515</td>\n",
       "      <td>4.428</td>\n",
       "      <td>2.666515</td>\n",
       "      <td>4.2768</td>\n",
       "      <td>2.666515</td>\n",
       "      <td>4.44204</td>\n",
       "      <td>2.666515</td>\n",
       "    </tr>\n",
       "    <tr>\n",
       "      <th>1000.0</th>\n",
       "      <td>7.2</td>\n",
       "      <td>2.666515</td>\n",
       "      <td>3.96</td>\n",
       "      <td>2.666515</td>\n",
       "      <td>4.716</td>\n",
       "      <td>2.666515</td>\n",
       "      <td>4.4136</td>\n",
       "      <td>2.666515</td>\n",
       "      <td>4.39308</td>\n",
       "      <td>2.666515</td>\n",
       "    </tr>\n",
       "    <tr>\n",
       "      <th>10000.0</th>\n",
       "      <td>0.0</td>\n",
       "      <td>2.666515</td>\n",
       "      <td>6.48</td>\n",
       "      <td>2.666515</td>\n",
       "      <td>4.356</td>\n",
       "      <td>2.666515</td>\n",
       "      <td>4.4496</td>\n",
       "      <td>2.666515</td>\n",
       "      <td>4.51008</td>\n",
       "      <td>2.666515</td>\n",
       "    </tr>\n",
       "    <tr>\n",
       "      <th>100000.0</th>\n",
       "      <td>7.2</td>\n",
       "      <td>2.666515</td>\n",
       "      <td>3.24</td>\n",
       "      <td>2.666515</td>\n",
       "      <td>4.572</td>\n",
       "      <td>2.666515</td>\n",
       "      <td>4.4424</td>\n",
       "      <td>2.666515</td>\n",
       "      <td>4.42044</td>\n",
       "      <td>2.666515</td>\n",
       "    </tr>\n",
       "  </tbody>\n",
       "</table>\n",
       "</div>"
      ],
      "text/plain": [
       "         Aproximación1    Error1 Aproximación2    Error2 Aproximación3  \\\n",
       "10.0              10.8  2.666515          2.52  2.666515         4.284   \n",
       "100.0              3.6  2.666515          4.68  2.666515         4.428   \n",
       "1000.0             7.2  2.666515          3.96  2.666515         4.716   \n",
       "10000.0            0.0  2.666515          6.48  2.666515         4.356   \n",
       "100000.0           7.2  2.666515          3.24  2.666515         4.572   \n",
       "\n",
       "            Error3 Aproximación4    Error4 Aproximación5    Error5  \n",
       "10.0      2.666515        4.3812  2.666515       4.47732  2.666515  \n",
       "100.0     2.666515        4.2768  2.666515       4.44204  2.666515  \n",
       "1000.0    2.666515        4.4136  2.666515       4.39308  2.666515  \n",
       "10000.0   2.666515        4.4496  2.666515       4.51008  2.666515  \n",
       "100000.0  2.666515        4.4424  2.666515       4.42044  2.666515  "
      ]
     },
     "execution_count": 43,
     "metadata": {},
     "output_type": "execute_result"
    }
   ],
   "source": [
    "import pandas as pd\n",
    "\n",
    "N = np.logspace(1, 5, 5) #Genera 7 elemtos desde 10^1 hasta 10^5\n",
    "table = pd.DataFrame(columns=[\"Aproximación1\", \"Error1\", \"Aproximación2\", \"Error2\", \"Aproximación3\", \"Error3\", \"Aproximación4\", \"Error4\", \"Aproximación5\", \"Error5\"], index=N)\n",
    "for i in N : \n",
    "    table.loc[i, \"Aproximación1\"] = montecarlo21(circulo, -6, 3, 0, 4, 10)\n",
    "    table.loc[i, \"Error1\"] = error_relativo1(AD, AR)\n",
    "    table.loc[i, \"Aproximación2\"] = montecarlo22(circulo, -6, 3, 0, 4, 100)\n",
    "    table.loc[i, \"Error2\"] = error_relativo2(AD, AR)\n",
    "    table.loc[i, \"Aproximación3\"] = montecarlo23(circulo, -6, 3, 0, 4, 1000)\n",
    "    table.loc[i, \"Error3\"] = error_relativo3(AD, AR)\n",
    "    table.loc[i, \"Aproximación4\"] = montecarlo24(circulo, -6, 3, 0, 4, 10000)\n",
    "    table.loc[i, \"Error4\"] = error_relativo4(AD, AR)\n",
    "    table.loc[i, \"Aproximación5\"] = montecarlo25(circulo, -6, 3, 0, 4, 100000)\n",
    "    table.loc[i, \"Error5\"] = error_relativo5(AD, AR)\n",
    "table"
   ]
  },
  {
   "cell_type": "markdown",
   "metadata": {},
   "source": [
    "3. Describe 3 casos de uso de integración Montecarlo en tu ingeniería."
   ]
  },
  {
   "cell_type": "markdown",
   "metadata": {},
   "source": [
    "# INGENIERIA FINANCIERA"
   ]
  },
  {
   "cell_type": "markdown",
   "metadata": {},
   "source": [
    "En finanzas, el método de Monte Carlo se utiliza para simular las diversas fuentes de incertidumbre que afectan el valor del instrumento, cartera o inversión en cuestión, y luego calcular un valor representativo dados estos posibles valores de los insumos subyacentes. En términos de teoría financiera, esto esencialmente, es una aplicación de valoración neutral al riesgo."
   ]
  },
  {
   "cell_type": "markdown",
   "metadata": {},
   "source": [
    "# CASO #1"
   ]
  },
  {
   "cell_type": "markdown",
   "metadata": {},
   "source": [
    "En finanzas corporativas, financiamiento de proyectos y análisis de opciones reales, los métodos de Monte Carlo son utilizados por analistas financieros que desean construir modelos financieros \" estocásticos \" o probabilísticos en contraposición a los tradicionales. Para analizar las características del valor actual neto (VAN) de un proyecto, se modelan los componentes del flujo de caja que están impactados por la incertidumbre, incorporando cualquier correlación entre estos, reflejando matemáticamente sus \"características aleatorias\". Luego, estos resultados se combinan en un histograma de VPN (es decir, la distribución de probabilidad del proyecto ) y se observa el VPN promedio de la inversión potencial, así como su volatilidad y otras sensibilidades. Esta distribución permite, por ejemplo, estimar la probabilidad de que el proyecto tenga un valor presente neto mayor que cero (o cualquier otro valor)."
   ]
  },
  {
   "cell_type": "markdown",
   "metadata": {},
   "source": [
    "# Caso #2"
   ]
  },
  {
   "cell_type": "markdown",
   "metadata": {},
   "source": [
    "Los métodos de Monte Carlo se utilizan para la evaluación de la cartera. Aquí, para cada muestra, se simula el comportamiento correlacionado de los factores que impactan en los instrumentos componentes a lo largo del tiempo, se calcula el valor resultante de cada instrumento y luego se observa el valor de la cartera. En cuanto a las finanzas corporativas, los diversos valores de la cartera se combinan en un histograma, y se observan las características estadísticas de la cartera y la cartera se evalúa según sea necesario. Se utiliza un enfoque similar para calcular el valor en riesgo que es una aplicación más conocida de la simulación a las carteras."
   ]
  },
  {
   "cell_type": "markdown",
   "metadata": {},
   "source": [
    "# Caso #3"
   ]
  },
  {
   "cell_type": "markdown",
   "metadata": {},
   "source": [
    "Los métodos Monte Carlo se utilizan para la planificación financiera personal. Por ejemplo, al simular el mercado general, se pueden calcular las posibilidades de que un 401 (k) permita la jubilación con un ingreso objetivo. Según corresponda, el trabajador en cuestión puede entonces correr mayores riesgos con la cartera de jubilación o comenzar a ahorrar más dinero."
   ]
  }
 ],
 "metadata": {
  "kernelspec": {
   "display_name": "Python 3 (ipykernel)",
   "language": "python",
   "name": "python3"
  },
  "language_info": {
   "codemirror_mode": {
    "name": "ipython",
    "version": 3
   },
   "file_extension": ".py",
   "mimetype": "text/x-python",
   "name": "python",
   "nbconvert_exporter": "python",
   "pygments_lexer": "ipython3",
   "version": "3.9.12"
  }
 },
 "nbformat": 4,
 "nbformat_minor": 2
}
