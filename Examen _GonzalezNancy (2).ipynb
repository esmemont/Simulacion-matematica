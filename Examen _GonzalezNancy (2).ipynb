{
 "cells": [
  {
   "cell_type": "markdown",
   "metadata": {},
   "source": [
    "# Examen Módulo 1 - Optimización.\n",
    "\n",
    "**Lea cuidadosamente las siguientes indicaciones antes de comenzar el examen:**\n",
    "- Para resolver el examen edite este mismo archivo y renómbrelo de la siguiente manera: *Examen1_ApellidoNombre*, donde *ApellidoNombre* corresponde a su apellido paterno con la inicial en mayúscula, seguido de su primer nombre con la inicial en mayúscula **sin acentos**. Por ejemplo, en mi caso el nombre del archivo sería *Examen1_ArellanoCarlos*.\n",
    "- Resuelva los puntos en el espacio provisto. Si requiere agregar más celdas para código o escritura, hágalo (`Esc`+`B`) o (`Esc`+`A`).\n",
    "- Recuerde que también se está evaluando su capacidad de interpretar los resultados. Escriba sus interpretaciones/conclusiones en celdas utilizando *Markdown*.\n",
    "- El formato de presentación de todo el examen en general debe ser adecuado. Use tamaños de letra, colores, etiquetas, etcétera.\n",
    "- No se resuelven dudas de ningún tipo por los profesores de la asignatura. Por favor, absténgase de preguntar.\n",
    "- Revise bien el tipo de examen. Sólo se le calificará si realiza el tipo de examen asignado."
   ]
  },
  {
   "cell_type": "markdown",
   "metadata": {},
   "source": [
    "---\n",
    "# Primer punto. Optimización de funciones con `SymPy`\n",
    "\n",
    "**Volumen mínimo**. Considere un cono circular recto circunscrito en una esfera de radio $r$:"
   ]
  },
  {
   "cell_type": "code",
   "execution_count": 2,
   "metadata": {
    "scrolled": true
   },
   "outputs": [
    {
     "data": {
      "image/png": "[encoded data removed]",
      "text/plain": [
       "<Figure size 432x288 with 1 Axes>"
      ]
     },
     "metadata": {
      "needs_background": "light"
     },
     "output_type": "display_data"
    }
   ],
   "source": [
    "import numpy as np\n",
    "import matplotlib.pyplot as plt\n",
    "import matplotlib.patches as patches\n",
    "%matplotlib inline\n",
    "\n",
    "B1 = patches.Arc((0, 0), 2,0.3,theta2=180,fc='None',ls='--',color='k')\n",
    "B2 = patches.Arc((0, 0), 2,0.3,theta1=180,fc='None',color='k')\n",
    "C = patches.Circle((0, 0.6), 0.6,fc='None',lw=2,color='k');\n",
    "ax = plt.gca()\n",
    "ax.add_artist(B1)\n",
    "ax.add_artist(B2)\n",
    "ax.add_artist(C)\n",
    "\n",
    "plt.plot([1,0,-1],[0,2,0],'k')\n",
    "plt.plot([0,0],[0,2],'--r')\n",
    "plt.plot([-0.2,0],[0,0],'--k')\n",
    "plt.plot([-0.2,0],[2,2],'--k')\n",
    "plt.plot([-0.14,-0.14],[0,0.9],'--k')\n",
    "plt.plot([-0.14,-0.14],[1.1,2],'--k')\n",
    "plt.plot([0,0.55],[0.6,0.9],'--r')\n",
    "plt.scatter([0,0.55],[0.6,0.9],c='k')\n",
    "plt.plot([0,1],[0,0],'--k')\n",
    "\n",
    "plt.text(-0.18,0.95,'h')\n",
    "plt.text(0.2,0.8,'$r$')\n",
    "\n",
    "plt.axis([-2.1,2.1,-0.5,2.1])\n",
    "plt.axis('off')\n",
    "plt.show()"
   ]
  },
  {
   "cell_type": "markdown",
   "metadata": {},
   "source": [
    "1. Escriba el volumen $V$ del cono como una función de la altura $h$ de éste. Realice este punto usando fórmulas de $\\LaTeX$, en celdas *Markdown*.\n",
    "2. Determinar el valor de $h$ que minimiza el volumen para un radio $r=2$.\n",
    "3. ¿Cuál es el volumen mínimo del cono?"
   ]
  },
  {
   "cell_type": "markdown",
   "metadata": {},
   "source": [
    "$v = \\frac{h\\pi*r^2}{3}$"
   ]
  },
  {
   "cell_type": "markdown",
   "metadata": {},
   "source": [
    "$R = \\sqrt{\\frac{-4h}{4-h}}$"
   ]
  },
  {
   "cell_type": "markdown",
   "metadata": {},
   "source": [
    "$$ V = \\frac{\\pi\\frac{-4h}{4-h}}3{h}$$"
   ]
  },
  {
   "cell_type": "code",
   "execution_count": 1,
   "metadata": {},
   "outputs": [],
   "source": [
    "import numpy as np\n",
    "import matplotlib.pyplot as plt\n",
    "%matplotlib inline\n",
    "import sympy as sp\n",
    "\n",
    "sp.var(\"h\")\n",
    "\n",
    "def vol(h):\n",
    "    return ((np.pi*h*((-4*h)/(4-h)))/3)"
   ]
  },
  {
   "cell_type": "code",
   "execution_count": 2,
   "metadata": {},
   "outputs": [
    {
     "data": {
      "text/plain": [
       "[0.0, 8.00000000000000]"
      ]
     },
     "execution_count": 2,
     "metadata": {},
     "output_type": "execute_result"
    }
   ],
   "source": [
    "diff = sp.diff(vol(h), h)\n",
    "pc = sp.solve(diff, h)\n",
    "pc"
   ]
  },
  {
   "cell_type": "markdown",
   "metadata": {},
   "source": [
    "Altura = 8\n",
    "Volumen = 67"
   ]
  },
  {
   "cell_type": "markdown",
   "metadata": {},
   "source": [
    "---\n",
    "# Segundo punto. Programación lineal\n",
    "\n",
    "Un empresario pretende fabricar dos tipos de congeladores denominados A y B. Cada uno de ellos debe pasar por tres operaciones antes de su comercialización: \n",
    "<table>\n",
    "  <tr>\n",
    "      <th></th>\n",
    "      <th>Ensamblaje</th>\n",
    "      <th>Pintura</th>\n",
    "      <th>Calidad</th>\n",
    "  </tr>\n",
    "  <tr>\n",
    "      <th>Congeladores tipo A</th>\n",
    "      <td>2.5 horas</td>\n",
    "      <td>3 kg</td>\n",
    "      <td>14 horas</td>\n",
    "  </tr>\n",
    "  <tr style=\"border-bottom: 1px solid #000;\">\n",
    "      <th>Congeladores tipo B</th>\n",
    "      <td>3 horas</td>\n",
    "      <td>6 kg</td>\n",
    "      <td>10 horas</td>\n",
    "  </tr>\n",
    "  <tr>\n",
    "      <td>Disponibilidad</td>\n",
    "      <td>4500 horas</td>\n",
    "      <td>8400 kg</td>\n",
    "      <td>20000 horas</td>\n",
    "  </tr>\n",
    "</table>\n",
    "\n",
    "El empresario dispone semanalmente de:\n",
    "\n",
    "* Máximo 4500 horas para ensamblaje\n",
    "* Máximo 8400 Kg. de esmalte\n",
    "* 20000 horas máximo, para control de calidad\n",
    "\n",
    "Los costos totales de fabricación por unidad son, respectivamente, 30 y 28, y los precios de venta 52 y 48, todos ellos en miles de pesos. Además, los estudios de mercado muestran que la demanda semanal de congeladores no supera las 1700 unidades y que, en particular, la de tipo A es de, al menos 600 unidades.\n",
    "\n",
    "<table>\n",
    "  <tr>\n",
    "      <th></th>\n",
    "      <th>Costo</th>\n",
    "      <th>Precio de venta</th>\n",
    "  </tr>\n",
    "  <tr>\n",
    "      <th>Congeladores tipo A</th>\n",
    "      <td>30</td>\n",
    "      <td>52</td>\n",
    "  </tr>\n",
    "  <tr>\n",
    "      <th>Congeladores tipo B</th>\n",
    "      <td>28</td>\n",
    "      <td>48</td>\n",
    "  </tr>\n",
    "</table>\n",
    "\n",
    "Se desea conocer las unidades necesarias para **maximizar** la utilidad.\n",
    "\n",
    "1. Escriba la función a **minimizar** junto con las restricciones, explicando detalladamente cada paso (usando fórmulas en $\\LaTeX$, en celdas Markdown). Además escriba el problema en la forma \\begin{equation}\n",
    "\\begin{array}{ll}\n",
    "\\min_{\\boldsymbol{x}} & \\boldsymbol{c}^T\\boldsymbol{x} \\\\\n",
    "\\text{s. a. }        & \\boldsymbol{A}_{eq}\\boldsymbol{x}=\\boldsymbol{b}_{eq} \\\\\n",
    "                     & \\boldsymbol{A}\\boldsymbol{x}\\leq\\boldsymbol{b},\n",
    "\\end{array}\\qquad\n",
    "\\end{equation}\n",
    "2. Resuelva el problema utilizando la función `linprog`. ¿Cuántos congeladores de cada tipo se deben producir (valores enteros)?, ¿Cuál es la ganancia?"
   ]
  },
  {
   "cell_type": "code",
   "execution_count": 3,
   "metadata": {},
   "outputs": [],
   "source": [
    "import scipy.optimize as opt"
   ]
  },
  {
   "cell_type": "code",
   "execution_count": 4,
   "metadata": {},
   "outputs": [],
   "source": [
    "import numpy as np"
   ]
  },
  {
   "cell_type": "code",
   "execution_count": 5,
   "metadata": {},
   "outputs": [],
   "source": [
    "\n",
    "c = np.array([-22, -20])\n",
    "\n",
    "A = np.array([\n",
    "    [2.5, 3], \n",
    "    [3, 6], \n",
    "    [14, 10], \n",
    "    [1, 1],\n",
    "    [-1, 0],\n",
    "])\n",
    "\n",
    "b = np.array([\n",
    "    [4500, 8400, 20000, 1700, -600]\n",
    "])"
   ]
  },
  {
   "cell_type": "code",
   "execution_count": 6,
   "metadata": {},
   "outputs": [
    {
     "data": {
      "text/plain": [
       "     con: array([], dtype=float64)\n",
       "     fun: -34705.882352941175\n",
       " message: 'Optimization terminated successfully.'\n",
       "     nit: 4\n",
       "   slack: array([   0.        , 1164.70588235,    0.        ,   52.94117647,\n",
       "        282.35294118])\n",
       "  status: 0\n",
       " success: True\n",
       "       x: array([882.35294118, 764.70588235])"
      ]
     },
     "execution_count": 6,
     "metadata": {},
     "output_type": "execute_result"
    }
   ],
   "source": [
    "sol = opt.linprog(c, A, b, method=\"simplex\") #Se pone simplex para que no nos de numeros con decimales\n",
    "sol\n"
   ]
  },
  {
   "cell_type": "markdown",
   "metadata": {},
   "source": [
    "882 A"
   ]
  },
  {
   "cell_type": "markdown",
   "metadata": {},
   "source": [
    "764 B"
   ]
  },
  {
   "cell_type": "markdown",
   "metadata": {},
   "source": [
    "Ganancia = 34684000 pesos"
   ]
  },
  {
   "cell_type": "markdown",
   "metadata": {},
   "source": [
    "---\n",
    "# Tercer punto. Ajuste de curvas\n",
    "Los siguientes datos extraidos de Administrative Office of the U.S. Courts, representan el número de bancarrotas en miles entre los años 1988 y 2001. "
   ]
  },
  {
   "cell_type": "code",
   "execution_count": 19,
   "metadata": {},
   "outputs": [
    {
     "name": "stderr",
     "output_type": "stream",
     "text": [
      "C:\\Users\\HP\\anaconda3\\lib\\site-packages\\IPython\\core\\interactiveshell.py:3369: UserWarning: Parsing '31/12/2001' in DD/MM/YYYY format. Provide format or specify infer_datetime_format=True for consistent parsing.\n",
      "  exec(code_obj, self.user_global_ns, self.user_ns)\n"
     ]
    }
   ],
   "source": [
    "import pandas as pd\n",
    "\n",
    "date_rng=pd.date_range(start='1/1/1988', end='31/12/2001', freq='Y')\n",
    "ban=pd.DataFrame(date_rng, columns=['date'])\n",
    "ban = ban.set_index('date')\n",
    "data = np.array([594.6,643.0,725.5,880.4,972.5,918.7,845.3,858.1,\n",
    "                           1042.1,1317.0,1429.5,1392.0,1277.0,1386.6])"
   ]
  },
  {
   "cell_type": "markdown",
   "metadata": {},
   "source": [
    "1. Ajuste los salarios con polinomios de grado 1 a 5 y muestre los errores de forma gráfica, ¿Qué polinómio se ajusta mejor?\n",
    "2. Muestre en un gráfico los datos y el polinómio que mejor se ajuste\n",
    "3. Usar el modelo para averiguar el número de bancarrotas a mdiados de 1995 y predecirlo para el año 2020. ¿Qué diferencias encuentra en cuanto a la interpolación y la extrapolación?"
   ]
  },
  {
   "cell_type": "markdown",
   "metadata": {},
   "source": [
    " por ejemplo $1988 \\rightarrow 0$ y $2001\\rightarrow 13$)."
   ]
  },
  {
   "cell_type": "code",
   "execution_count": 20,
   "metadata": {},
   "outputs": [],
   "source": [
    "import numpy as np\n",
    "import pandas as pd\n",
    "import matplotlib.pyplot as plt\n",
    "%matplotlib inline\n",
    "import scipy.optimize as opt"
   ]
  },
  {
   "cell_type": "code",
   "execution_count": 21,
   "metadata": {},
   "outputs": [
    {
     "data": {
      "image/png": "[encoded data removed]",
      "text/plain": [
       "<Figure size 432x288 with 1 Axes>"
      ]
     },
     "metadata": {
      "needs_background": "light"
     },
     "output_type": "display_data"
    }
   ],
   "source": [
    "x = np.linspace(0,13,len(data))\n",
    "\n",
    "plt.figure()\n",
    "plt.scatter(x,data)\n",
    "plt.grid()"
   ]
  },
  {
   "cell_type": "code",
   "execution_count": 22,
   "metadata": {},
   "outputs": [],
   "source": [
    "def funcion_costo(beta, X, y, size):\n",
    "    beta = np.reshape(beta,[size,-1]) \n",
    "    pred= X @ beta\n",
    "    costo = (y-pred).T @ (y-pred)\n",
    "    return costo [0][0]\n",
    "\n",
    "# Construyendo matriz X\n",
    "ones = np.ones([len(data),1])\n",
    "x_1 = np.reshape(x,[len(data),-1])\n",
    "x_2 = np.reshape(x**2,[len(data),-1])\n",
    "x_3 = np.reshape(x**3,[len(data),-1])\n",
    "x_4 = np.reshape(x**4,[len(data),-1])\n",
    "x_5 = np.reshape(x**5,[len(data),-1])\n",
    "\n",
    "X1 = np.hstack((ones,x_1))\n",
    "X2 = np.hstack((ones,x_1,x_2))\n",
    "X3 = np.hstack((ones,x_1,x_2,x_3))\n",
    "X4 = np.hstack((ones,x_1,x_2,x_3,x_4))\n",
    "X5 = np.hstack((ones,x_1,x_2,x_3,x_4,x_5))\n",
    "\n",
    "#beta \n",
    "beta_inicial_1 = np.random.rand(2)\n",
    "beta_inicial_2 = np.random.rand(3)\n",
    "beta_inicial_3= np.random.rand(4)\n",
    "beta_inicial_4= np.random.rand(5)\n",
    "beta_inicial_5= np.random.rand(6)\n",
    "\n",
    "\n",
    "y = np.reshape(data,[len(data),-1])"
   ]
  },
  {
   "cell_type": "code",
   "execution_count": 23,
   "metadata": {},
   "outputs": [
    {
     "name": "stdout",
     "output_type": "stream",
     "text": [
      "Grado 1: 15575544.374885634\n",
      "Grado 2: 14732466.344283577\n",
      "Grado 3: 6791063.866612202\n",
      "Grado 4: 1333578971.6322353\n",
      "Grado 5: 105163086540.284\n"
     ]
    }
   ],
   "source": [
    "print(\"Grado 1:\",funcion_costo(beta_inicial_1,X1,y,2))\n",
    "print(\"Grado 2:\",funcion_costo(beta_inicial_2,X2,y,3))\n",
    "print(\"Grado 3:\",funcion_costo(beta_inicial_3,X3,y,4))\n",
    "print(\"Grado 4:\",funcion_costo(beta_inicial_4,X4,y,5))\n",
    "print(\"Grado 5:\",funcion_costo(beta_inicial_5,X5,y,6))"
   ]
  },
  {
   "cell_type": "code",
   "execution_count": 24,
   "metadata": {},
   "outputs": [
    {
     "data": {
      "text/plain": [
       "      fun: 155674.7628131872\n",
       " hess_inv: array([[ 0.12883197, -0.01431814],\n",
       "       [-0.01431814,  0.00220155]])\n",
       "      jac: array([0., 0.])\n",
       "  message: 'Optimization terminated successfully.'\n",
       "     nfev: 33\n",
       "      nit: 6\n",
       "     njev: 11\n",
       "   status: 0\n",
       "  success: True\n",
       "        x: array([602.76858048,  64.21472449])"
      ]
     },
     "execution_count": 24,
     "metadata": {},
     "output_type": "execute_result"
    }
   ],
   "source": [
    "sol1 = opt.minimize(funcion_costo,beta_inicial_1,args=(X1,y,2))\n",
    "sol1"
   ]
  },
  {
   "cell_type": "code",
   "execution_count": 28,
   "metadata": {},
   "outputs": [
    {
     "data": {
      "text/plain": [
       "      fun: 155674.61137103202\n",
       " hess_inv: array([[ 2.59574260e-01, -7.84668798e-02,  4.89059376e-03],\n",
       "       [-7.84668798e-02,  3.34221743e-02, -2.37188145e-03],\n",
       "       [ 4.89059376e-03, -2.37188145e-03,  1.79925854e-04]])\n",
       "      jac: array([0., 0., 0.])\n",
       "  message: 'Optimization terminated successfully.'\n",
       "     nfev: 48\n",
       "      nit: 9\n",
       "     njev: 12\n",
       "   status: 0\n",
       "  success: True\n",
       "        x: array([6.02955799e+02, 6.41210515e+01, 7.20695071e-03])"
      ]
     },
     "execution_count": 28,
     "metadata": {},
     "output_type": "execute_result"
    }
   ],
   "source": [
    "sol2 = opt.minimize(funcion_costo,beta_inicial_2,args=(X2,y,3))\n",
    "sol2"
   ]
  },
  {
   "cell_type": "code",
   "execution_count": 29,
   "metadata": {
    "scrolled": true
   },
   "outputs": [
    {
     "data": {
      "text/plain": [
       "      fun: 152011.4948257716\n",
       " hess_inv: array([[ 4.53379568e-05, -7.11093661e-04,  1.78835549e-04,\n",
       "        -1.00833228e-05],\n",
       "       [-7.11093661e-04,  5.69954394e-02, -1.31145105e-02,\n",
       "         6.96971872e-04],\n",
       "       [ 1.78835549e-04, -1.31145105e-02,  3.21178144e-03,\n",
       "        -1.77206368e-04],\n",
       "       [-1.00833228e-05,  6.96971872e-04, -1.77206368e-04,\n",
       "         1.00259293e-05]])\n",
       "      jac: array([0., 0., 0., 0.])\n",
       "  message: 'Optimization terminated successfully.'\n",
       "     nfev: 125\n",
       "      nit: 11\n",
       "     njev: 25\n",
       "   status: 0\n",
       "  success: True\n",
       "        x: array([ 6.30711294e+02,  3.25162977e+01,  6.31520359e+00, -3.23486655e-01])"
      ]
     },
     "execution_count": 29,
     "metadata": {},
     "output_type": "execute_result"
    }
   ],
   "source": [
    "sol3 = opt.minimize(funcion_costo,beta_inicial_3,args=(X3,y,4))\n",
    "sol3"
   ]
  },
  {
   "cell_type": "code",
   "execution_count": 31,
   "metadata": {},
   "outputs": [
    {
     "data": {
      "text/plain": [
       "      fun: 106381.97760248973\n",
       " hess_inv: array([[ 6.15551419e-07,  3.48987465e-05, -4.35677186e-05,\n",
       "         7.80673025e-06, -3.64786406e-07],\n",
       "       [ 3.48987465e-05,  3.74489127e-03, -4.56290429e-03,\n",
       "         7.86152324e-04, -3.55909446e-05],\n",
       "       [-4.35677186e-05, -4.56290429e-03,  5.56895890e-03,\n",
       "        -9.63617052e-04,  4.37794050e-05],\n",
       "       [ 7.80673025e-06,  7.86152324e-04, -9.63617052e-04,\n",
       "         1.69789383e-04, -7.82849010e-06],\n",
       "       [-3.64786406e-07, -3.55909446e-05,  4.37794050e-05,\n",
       "        -7.82849010e-06,  3.65553281e-07]])\n",
       "      jac: array([ 1.95312500e-03, -8.78906250e-03, -9.96093750e-02, -1.18164062e+00,\n",
       "       -1.41347656e+01])\n",
       "  message: 'Desired error not necessarily achieved due to precision loss.'\n",
       "     nfev: 222\n",
       "      nit: 11\n",
       "     njev: 35\n",
       "   status: 2\n",
       "  success: False\n",
       "        x: array([ 5.47916974e+02,  2.23195031e+02, -6.54306284e+01,  8.45778184e+00,\n",
       "       -3.37741169e-01])"
      ]
     },
     "execution_count": 31,
     "metadata": {},
     "output_type": "execute_result"
    }
   ],
   "source": [
    "sol4 = opt.minimize(funcion_costo,beta_inicial_4,args=(X4,y,5))\n",
    "sol4"
   ]
  },
  {
   "cell_type": "code",
   "execution_count": 32,
   "metadata": {},
   "outputs": [
    {
     "data": {
      "text/plain": [
       "      fun: 105833.76513514694\n",
       " hess_inv: array([[ 1.33099705e-01,  1.50109560e-02, -5.48876850e-02,\n",
       "         1.50111231e-02, -1.44392712e-03,  4.64275586e-05],\n",
       "       [ 1.50109560e-02,  4.26367013e-03, -1.42075354e-02,\n",
       "         4.26351466e-03, -4.36523607e-04,  1.46611963e-05],\n",
       "       [-5.48876850e-02, -1.42075354e-02,  4.81370523e-02,\n",
       "        -1.42074809e-02,  1.43564576e-03, -4.77294167e-05],\n",
       "       [ 1.50111231e-02,  4.26351466e-03, -1.42074809e-02,\n",
       "         4.26350518e-03, -4.36522821e-04,  1.46611719e-05],\n",
       "       [-1.44392712e-03, -4.36523607e-04,  1.43564576e-03,\n",
       "        -4.36522821e-04,  4.51922261e-05, -1.53152832e-06],\n",
       "       [ 4.64275587e-05,  1.46611963e-05, -4.77294167e-05,\n",
       "         1.46611719e-05, -1.53152832e-06,  5.22930285e-08]])\n",
       "      jac: array([0.00000000e+00, 0.00000000e+00, 9.76562500e-04, 8.78906250e-03,\n",
       "       1.19140625e-01, 1.90917969e+00])\n",
       "  message: 'Desired error not necessarily achieved due to precision loss.'\n",
       "     nfev: 278\n",
       "      nit: 19\n",
       "     njev: 39\n",
       "   status: 2\n",
       "  success: False\n",
       "        x: array([ 5.55026441e+02,  1.90730136e+02, -4.54463164e+01,  4.16503410e+00,\n",
       "        3.93263795e-02, -1.16021161e-02])"
      ]
     },
     "execution_count": 32,
     "metadata": {},
     "output_type": "execute_result"
    }
   ],
   "source": [
    "sol5 = opt.minimize(funcion_costo,beta_inicial_5,args=(X5,y,6))\n",
    "sol5"
   ]
  },
  {
   "cell_type": "code",
   "execution_count": 34,
   "metadata": {},
   "outputs": [
    {
     "data": {
      "image/png": "[encoded data removed]",
      "text/plain": [
       "<Figure size 432x288 with 1 Axes>"
      ]
     },
     "metadata": {
      "needs_background": "light"
     },
     "output_type": "display_data"
    }
   ],
   "source": [
    "y_pred_1 = 602.76858048 + 64.21472449*x\n",
    "y_pred_2 = 6.02955799e+02 + 6.41210515e+01*x + 7.20695071e-03*x**2\n",
    "y_pred_3 = 6.30711294e+02 + 3.25162977e+01*x + 6.31520359e+00*x**2 -3.23486655e-01*x**3\n",
    "y_pred_4 = 5.47916974e+02 + 2.23195031e+02*x - 6.54306284e+01*x**2 + 8.45778184e+00*x**3 - 3.37741169e-01*x**4\n",
    "y_pred_4 = 5.47916974e+02 + 2.23195031e+02*x - 6.54306284e+01*x**2 + 8.45778184e+00*x**3 - 3.37741169e-01*x**4\n",
    "y_pred_5 = 5.55026441e+02 + 1.90730136e+02*x - 4.54463164e+01*x**2 + 4.16503410e+00*x**3 + 3.93263795e-02*x**4 - 1.16021161e-02*x**5\n",
    "\n",
    "\n",
    "plt.figure()\n",
    "plt.scatter(x,data)\n",
    "plt.plot(x,y_pred_1,\"g\",label='Grado 1')\n",
    "plt.plot(x,y_pred_2,\"r\",label='Grado 2',linewidth=3)\n",
    "plt.plot(x,y_pred_3,\"b\",label='Grado 3')\n",
    "plt.plot(x,y_pred_3,\"k\",label='Grado 4')\n",
    "plt.plot(x,y_pred_3,\"w\",label='Grado 5')\n",
    "\n",
    "plt.legend()\n",
    "plt.grid()"
   ]
  },
  {
   "cell_type": "markdown",
   "metadata": {},
   "source": [
    "¿Que polinomio se ajusta mejor?"
   ]
  },
  {
   "cell_type": "markdown",
   "metadata": {},
   "source": [
    "-El de grado 2"
   ]
  },
  {
   "cell_type": "code",
   "execution_count": null,
   "metadata": {},
   "outputs": [],
   "source": []
  }
 ],
 "metadata": {
  "kernelspec": {
   "display_name": "Python 3 (ipykernel)",
   "language": "python",
   "name": "python3"
  },
  "language_info": {
   "codemirror_mode": {
    "name": "ipython",
    "version": 3
   },
   "file_extension": ".py",
   "mimetype": "text/x-python",
   "name": "python",
   "nbconvert_exporter": "python",
   "pygments_lexer": "ipython3",
   "version": "3.9.7"
  }
 },
 "nbformat": 4,
 "nbformat_minor": 4
}
